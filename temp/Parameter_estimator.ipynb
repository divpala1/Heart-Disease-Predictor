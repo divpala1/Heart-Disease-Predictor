{
 "cells": [
  {
   "cell_type": "code",
   "execution_count": 1,
   "id": "ed90969a",
   "metadata": {},
   "outputs": [],
   "source": [
    "import numpy as np\n",
    "import pandas as pd\n",
    "from sklearn.model_selection import train_test_split\n",
    "from sklearn.preprocessing import StandardScaler\n",
    "from sklearn.metrics import accuracy_score\n",
    "\n",
    "# Models\n",
    "from sklearn.linear_model import LogisticRegression\n",
    "from sklearn.linear_model import LinearRegression\n",
    "from sklearn.ensemble import RandomForestClassifier\n",
    "from sklearn.tree import DecisionTreeRegressor\n",
    "from sklearn.neighbors import KNeighborsClassifier\n",
    "from sklearn.svm import LinearSVC"
   ]
  },
  {
   "cell_type": "code",
   "execution_count": 2,
   "id": "11eccc08",
   "metadata": {},
   "outputs": [],
   "source": [
    "# Dataset source: https://www.kaggle.com/ronitf/heart-disease-uci\n",
    "# For the 'target' column, 0 corresponds to a healthy heart and 1 corresponds to a defective heart.\n",
    "data = pd.read_csv(\"heart.csv\")"
   ]
  },
  {
   "cell_type": "code",
   "execution_count": 3,
   "id": "2143b062",
   "metadata": {},
   "outputs": [],
   "source": [
    "x = data.drop(\"target\", axis=1)\n",
    "y = data[\"target\"]"
   ]
  },
  {
   "cell_type": "markdown",
   "id": "ab8190df",
   "metadata": {},
   "source": [
    "# Stratified train and test split"
   ]
  },
  {
   "cell_type": "code",
   "execution_count": 4,
   "id": "4e91667d",
   "metadata": {},
   "outputs": [],
   "source": [
    "train_x, test_x, train_y, test_y = train_test_split(x, y, test_size=0.1, stratify=y, random_state=1)"
   ]
  },
  {
   "cell_type": "code",
   "execution_count": 5,
   "id": "a7f0b4d6",
   "metadata": {},
   "outputs": [],
   "source": [
    "scaler = StandardScaler()\n",
    "scaled_train_x = scaler.fit_transform(train_x)\n",
    "scaled_test_x = scaler.fit_transform(test_x)"
   ]
  },
  {
   "cell_type": "code",
   "execution_count": 6,
   "id": "6f1accea",
   "metadata": {},
   "outputs": [],
   "source": [
    "# model = LogisticRegression()\n",
    "# Training accuracy: 0.8419117647058824\n",
    "# Testing accuracy: 0.9032258064516129\n",
    "\n",
    "# model = DecisionTreeRegressor()\n",
    "# Training accuracy: 1.0\n",
    "# Testing accuracy: 0.8387096774193549\n",
    "\n",
    "model = RandomForestClassifier(max_depth=4, n_estimators=50)\n",
    "# Training accuracy: 1.0\n",
    "# Testing accuracy: 0.9032258064516129\n",
    "\n",
    "# model = KNeighborsClassifier(algorithm=\"brute\", n_jobs=-1)\n",
    "# Training accuracy: 0.8584905660377359\n",
    "# Testing accuracy: 0.8241758241758241\n",
    "\n",
    "# model = LinearSVC(C=0.0001)\n",
    "# Training accuracy: 0.8308823529411765\n",
    "# Testing accuracy: 0.8709677419354839"
   ]
  },
  {
   "cell_type": "code",
   "execution_count": 7,
   "id": "5c1d088d",
   "metadata": {},
   "outputs": [
    {
     "data": {
      "text/plain": [
       "LinearSVC(C=0.0001)"
      ]
     },
     "execution_count": 7,
     "metadata": {},
     "output_type": "execute_result"
    }
   ],
   "source": [
    "model.fit(scaled_train_x, train_y)"
   ]
  },
  {
   "cell_type": "code",
   "execution_count": 8,
   "id": "f9e3e653",
   "metadata": {},
   "outputs": [
    {
     "data": {
      "text/plain": [
       "0.8308823529411765"
      ]
     },
     "execution_count": 8,
     "metadata": {},
     "output_type": "execute_result"
    }
   ],
   "source": [
    "x_prediction = model.predict(scaled_train_x)\n",
    "training_data_acc = accuracy_score(x_prediction, train_y)\n",
    "training_data_acc"
   ]
  },
  {
   "cell_type": "code",
   "execution_count": 9,
   "id": "4b48b9c4",
   "metadata": {
    "scrolled": true
   },
   "outputs": [
    {
     "data": {
      "text/plain": [
       "0.8709677419354839"
      ]
     },
     "execution_count": 9,
     "metadata": {},
     "output_type": "execute_result"
    }
   ],
   "source": [
    "x_prediction = model.predict(scaled_test_x)\n",
    "testing_data_acc = accuracy_score(x_prediction, test_y)\n",
    "testing_data_acc"
   ]
  },
  {
   "cell_type": "markdown",
   "id": "0d765dfd",
   "metadata": {},
   "source": [
    "## Function to estimate best parameters for the model"
   ]
  },
  {
   "cell_type": "raw",
   "id": "e08dfa71",
   "metadata": {},
   "source": [
    "from sklearn.model_selection import GridSearchCV\n",
    "parameters = {\n",
    "    \"n_estimators\": [5,10,50,100,250,500],\n",
    "    \"max_depth\": [2,4,8,16,32,64,None]\n",
    "}\n",
    "\n",
    "cv = GridSearchCV(model, parameters, cv=10)\n",
    "cv.fit(scaled_train_x, train_y.values.ravel())"
   ]
  },
  {
   "cell_type": "raw",
   "id": "a4fabd6a",
   "metadata": {},
   "source": [
    "# def display(results):\n",
    "    print(f'Best parameters are: {results.best_params_}')\n",
    "    print(\"\\n\")\n",
    "    mean_score = results.cv_results_['mean_test_score']\n",
    "    std_score = results.cv_results_['std_test_score']\n",
    "    params = results.cv_results_['params']\n",
    "    for mean,std,params in zip(mean_score,std_score,params):\n",
    "        print(f'{round(mean,3)} + or -{round(std,3)} for the {params}')\n",
    "        \n",
    "display(cv)"
   ]
  },
  {
   "cell_type": "markdown",
   "id": "f12b9715",
   "metadata": {},
   "source": [
    "## Function to estimate the best test size for model"
   ]
  },
  {
   "cell_type": "code",
   "execution_count": null,
   "id": "9ccf0511",
   "metadata": {},
   "outputs": [],
   "source": [
    "model = LogisticRegression()\n",
    "# Training accuracy: 0.8636363636363636\n",
    "# Testing accuracy: 0.9032258064516129\n",
    "\n",
    "# model = DecisionTreeRegressor()\n",
    "# Training accuracy: 1.0\n",
    "# Testing accuracy: 0.7741935483870968\n",
    "\n",
    "# model = RandomForestClassifier(max_depth=4, n_estimators=50)\n",
    "# Training accuracy: 1.0\n",
    "# Testing accuracy: 0.9032258064516129\n",
    "\n",
    "# model = KNeighborsClassifier(algorithm=\"brute\", n_jobs=-1)\n",
    "# Training accuracy: 0.8636363636363636\n",
    "# Testing accuracy: 0.8241758241758241 0.3\n",
    "\n",
    "# model = LinearSVC(C=0.0001)\n",
    "# Training accuracy: 0.8429752066115702\n",
    "# Testing accuracy: 0.8709677419354839\n",
    "\n",
    "max_acc = 0\n",
    "t_size = 0\n",
    "scaler = StandardScaler()\n",
    "for i in range(1,10,1):\n",
    "    x = data.drop(\"target\", axis=1)\n",
    "    y = data[\"target\"]\n",
    "    train_x, test_x, train_y, test_y = train_test_split(x, y, test_size=(i/10), stratify=y, random_state=1)\n",
    "    scaled_train_x = scaler.fit_transform(train_x)\n",
    "    scaled_test_x = scaler.fit_transform(test_x)\n",
    "    model.fit(scaled_train_x, train_y)\n",
    "    x_prediction = model.predict(scaled_test_x)\n",
    "    testing_data_acc = accuracy_score(x_prediction, test_y)\n",
    "    if testing_data_acc > max_acc:\n",
    "        max_acc = testing_data_acc\n",
    "        t_size = i\n",
    "print(t_size, max_acc)"
   ]
  }
 ],
 "metadata": {
  "kernelspec": {
   "display_name": "Python 3 (ipykernel)",
   "language": "python",
   "name": "python3"
  },
  "language_info": {
   "codemirror_mode": {
    "name": "ipython",
    "version": 3
   },
   "file_extension": ".py",
   "mimetype": "text/x-python",
   "name": "python",
   "nbconvert_exporter": "python",
   "pygments_lexer": "ipython3",
   "version": "3.9.6"
  }
 },
 "nbformat": 4,
 "nbformat_minor": 5
}
